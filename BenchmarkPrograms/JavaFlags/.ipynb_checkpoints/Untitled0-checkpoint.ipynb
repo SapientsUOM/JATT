{
 "metadata": {
  "name": ""
 },
 "nbformat": 3,
 "nbformat_minor": 0,
 "worksheets": [
  {
   "cells": [
    {
     "cell_type": "code",
     "collapsed": false,
     "input": [
      "import pandas as pd\n"
     ],
     "language": "python",
     "metadata": {},
     "outputs": [],
     "prompt_number": 1
    },
    {
     "cell_type": "code",
     "collapsed": false,
     "input": [
      "flags = pd.read_csv(\"flags.csv\")"
     ],
     "language": "python",
     "metadata": {},
     "outputs": [],
     "prompt_number": 4
    },
    {
     "cell_type": "code",
     "collapsed": false,
     "input": [
      "flags_uintx = flags[flags.type == 'uintx']"
     ],
     "language": "python",
     "metadata": {},
     "outputs": [],
     "prompt_number": 6
    },
    {
     "cell_type": "code",
     "collapsed": false,
     "input": [
      "flags_uintx.to_csv('flags_uintx.csv',index=False)"
     ],
     "language": "python",
     "metadata": {},
     "outputs": [],
     "prompt_number": 19
    },
    {
     "cell_type": "code",
     "collapsed": false,
     "input": [
      "flags_bool = flags[flags.type=='bool']"
     ],
     "language": "python",
     "metadata": {},
     "outputs": [],
     "prompt_number": 10
    },
    {
     "cell_type": "code",
     "collapsed": false,
     "input": [
      "flags_bool.to_csv('flags_bool.csv',index=False)"
     ],
     "language": "python",
     "metadata": {},
     "outputs": [],
     "prompt_number": 20
    },
    {
     "cell_type": "code",
     "collapsed": false,
     "input": [
      "flags_intx = flags[flags.type=='intx']"
     ],
     "language": "python",
     "metadata": {},
     "outputs": [],
     "prompt_number": 17
    },
    {
     "cell_type": "code",
     "collapsed": false,
     "input": [
      "flags_intx.to_csv('flags_intx.csv',index=False)"
     ],
     "language": "python",
     "metadata": {},
     "outputs": [],
     "prompt_number": 22
    },
    {
     "cell_type": "code",
     "collapsed": false,
     "input": [
      "flags_bool = pd.read_csv('flags_bool.csv')"
     ],
     "language": "python",
     "metadata": {},
     "outputs": [],
     "prompt_number": 2
    },
    {
     "cell_type": "code",
     "collapsed": false,
     "input": [
      "flags_bool.flagname.to_csv('flagnames_bool.csv',index=False)"
     ],
     "language": "python",
     "metadata": {},
     "outputs": [],
     "prompt_number": 5
    },
    {
     "cell_type": "code",
     "collapsed": false,
     "input": [
      "flags_numbers = pd.read_csv('flags_numbers.csv')"
     ],
     "language": "python",
     "metadata": {},
     "outputs": [],
     "prompt_number": 7
    },
    {
     "cell_type": "code",
     "collapsed": false,
     "input": [
      "def tofloat(value):\n",
      "    value = float(value)\n",
      "    return value\n",
      "\n",
      "flags_numbers.defaultvalue = flags_numbers.defaultvalue.apply(tofloat)"
     ],
     "language": "python",
     "metadata": {},
     "outputs": [],
     "prompt_number": 18
    },
    {
     "cell_type": "code",
     "collapsed": false,
     "input": [
      "minvalue = 0.5*flags_numbers.defaultvalue"
     ],
     "language": "python",
     "metadata": {},
     "outputs": [],
     "prompt_number": 20
    },
    {
     "cell_type": "code",
     "collapsed": false,
     "input": [
      "minvalue"
     ],
     "language": "python",
     "metadata": {},
     "outputs": [
      {
       "metadata": {},
       "output_type": "pyout",
       "prompt_number": 21,
       "text": [
        "0         1.5\n",
        "1         0.5\n",
        "2        96.0\n",
        "3         0.0\n",
        "4         2.0\n",
        "5        32.0\n",
        "6         0.5\n",
        "7         0.0\n",
        "8        64.0\n",
        "9         0.0\n",
        "10    50000.0\n",
        "11       10.0\n",
        "12       20.0\n",
        "13    12500.0\n",
        "14     2000.0\n",
        "...\n",
        "316           1.5\n",
        "317          17.5\n",
        "318          32.0\n",
        "319           0.0\n",
        "320           2.0\n",
        "321           0.5\n",
        "322          10.0\n",
        "323          40.0\n",
        "324           1.0\n",
        "325    26214400.0\n",
        "326           5.0\n",
        "327          10.0\n",
        "328          40.0\n",
        "329           4.0\n",
        "330        2048.0\n",
        "Name: defaultvalue, Length: 331, dtype: float64"
       ]
      }
     ],
     "prompt_number": 21
    },
    {
     "cell_type": "code",
     "collapsed": false,
     "input": [
      "maxvalue = 1.5*flags_numbers.defaultvalue"
     ],
     "language": "python",
     "metadata": {},
     "outputs": [],
     "prompt_number": 22
    },
    {
     "cell_type": "code",
     "collapsed": false,
     "input": [
      "flags_numbers['minvalue'] = minvalue\n",
      "flags_numbers['maxvalue']=maxvalue"
     ],
     "language": "python",
     "metadata": {},
     "outputs": [],
     "prompt_number": 23
    },
    {
     "cell_type": "code",
     "collapsed": false,
     "input": [
      "flags_numbers.to_csv('flags_numbers.csv')"
     ],
     "language": "python",
     "metadata": {},
     "outputs": [],
     "prompt_number": 25
    },
    {
     "cell_type": "code",
     "collapsed": false,
     "input": [
      "flags_numbers.flagname.to_csv('flags_numbers_names.csv',index=False)"
     ],
     "language": "python",
     "metadata": {},
     "outputs": [],
     "prompt_number": 28
    },
    {
     "cell_type": "code",
     "collapsed": false,
     "input": [
      "flagnames = pd.read_csv('flagnames.csv')"
     ],
     "language": "python",
     "metadata": {},
     "outputs": [],
     "prompt_number": 30
    },
    {
     "cell_type": "code",
     "collapsed": false,
     "input": [
      "flags_numbers.flagname = flagnames"
     ],
     "language": "python",
     "metadata": {},
     "outputs": [],
     "prompt_number": 31
    },
    {
     "cell_type": "code",
     "collapsed": false,
     "input": [
      "df = pd.DataFrame(data={'flagnames': flags_numbers.flagname,'minimum':flags_numbers.minvalue,'maximum':flags_numbers.maxvalue},columns=['flagnames','minimum','maximum'])"
     ],
     "language": "python",
     "metadata": {},
     "outputs": [],
     "prompt_number": 45
    },
    {
     "cell_type": "code",
     "collapsed": false,
     "input": [
      "type(df.minimum[0])"
     ],
     "language": "python",
     "metadata": {},
     "outputs": [
      {
       "metadata": {},
       "output_type": "pyout",
       "prompt_number": 48,
       "text": [
        "numpy.float64"
       ]
      }
     ],
     "prompt_number": 48
    },
    {
     "cell_type": "code",
     "collapsed": false,
     "input": [],
     "language": "python",
     "metadata": {},
     "outputs": []
    }
   ],
   "metadata": {}
  }
 ]
}