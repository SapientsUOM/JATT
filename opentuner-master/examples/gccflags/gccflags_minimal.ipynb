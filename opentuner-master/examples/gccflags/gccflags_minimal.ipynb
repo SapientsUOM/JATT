{
 "metadata": {
  "name": ""
 },
 "nbformat": 3,
 "nbformat_minor": 0,
 "worksheets": [
  {
   "cells": [
    {
     "cell_type": "code",
     "collapsed": false,
     "input": [
      "#!/usr/bin/env python\n",
      "#\n",
      "# Autotune flags to g++ to optimize the performance of apps/raytracer.cpp\n",
      "#\n",
      "# This is an extremely simplified version meant only for tutorials\n",
      "#\n",
      "import adddeps  # fix sys.path\n",
      "\n",
      "import opentuner\n",
      "from opentuner import ConfigurationManipulator\n",
      "from opentuner import EnumParameter\n",
      "from opentuner import IntegerParameter\n",
      "from opentuner import MeasurementInterface\n",
      "from opentuner import Result\n",
      "\n",
      "GCC_FLAGS = [\n",
      "  'align-functions', 'align-jumps', 'align-labels',\n",
      "  'align-loops', 'asynchronous-unwind-tables',\n",
      "  'branch-count-reg', 'branch-probabilities',\n",
      "  # ... (176 total)\n",
      "]\n",
      "\n",
      "# (name, min, max)\n",
      "GCC_PARAMS = [\n",
      "  ('early-inlining-insns', 0, 1000),\n",
      "  ('gcse-cost-distance-ratio', 0, 100),\n",
      "  ('iv-max-considered-uses', 0, 1000),\n",
      "  # ... (145 total)\n",
      "]\n",
      "\n",
      "\n",
      "class GccFlagsTuner(MeasurementInterface):\n",
      "\n",
      "  def manipulator(self):\n",
      "    \"\"\"\n",
      "    Define the search space by creating a\n",
      "    ConfigurationManipulator\n",
      "    \"\"\"\n",
      "    manipulator = ConfigurationManipulator()\n",
      "    manipulator.add_parameter(\n",
      "      IntegerParameter('opt_level', 0, 3))\n",
      "    for flag in GCC_FLAGS:\n",
      "      manipulator.add_parameter(\n",
      "        EnumParameter(flag,\n",
      "                      ['on', 'off', 'default']))\n",
      "    for param, min, max in GCC_PARAMS:\n",
      "      manipulator.add_parameter(\n",
      "        IntegerParameter(param, min, max))\n",
      "    return manipulator\n",
      "\n",
      "  def run(self, desired_result, input, limit):\n",
      "    \"\"\"\n",
      "    Compile and run a given configuration then\n",
      "    return performance\n",
      "    \"\"\"\n",
      "    cfg = desired_result.configuration.data\n",
      "\n",
      "    gcc_cmd = 'g++ apps/raytracer.cpp -o ./tmp.bin'\n",
      "    gcc_cmd += ' -O{0}'.format(cfg['opt_level'])\n",
      "    for flag in GCC_FLAGS:\n",
      "      if cfg[flag] == 'on':\n",
      "        gcc_cmd += ' -f{0}'.format(flag)\n",
      "      elif cfg[flag] == 'off':\n",
      "        gcc_cmd += ' -fno-{0}'.format(flag)\n",
      "    for param, min, max in GCC_PARAMS:\n",
      "      gcc_cmd += ' --param {0}={1}'.format(\n",
      "        param, cfg[param])\n",
      "\n",
      "    compile_result = self.call_program(gcc_cmd)\n",
      "    assert compile_result['returncode'] == 0\n",
      "\n",
      "    run_result = self.call_program('./tmp.bin')\n",
      "    assert run_result['returncode'] == 0\n",
      "    return Result(time=run_result['time'])\n",
      "\n",
      "if __name__ == '__main__':\n",
      "  argparser = opentuner.default_argparser()\n",
      "  GccFlagsTuner.main(argparser.parse_args())"
     ],
     "language": "python",
     "metadata": {},
     "outputs": [
      {
       "ename": "SystemExit",
       "evalue": "2",
       "output_type": "pyerr",
       "traceback": [
        "An exception has occurred, use %tb to see the full traceback.\n",
        "\u001b[0;31mSystemExit\u001b[0m\u001b[0;31m:\u001b[0m 2\n"
       ]
      },
      {
       "output_type": "stream",
       "stream": "stderr",
       "text": [
        "usage: -c [-h] [--machine-class MACHINE_CLASS] [--test-limit TEST_LIMIT]\n",
        "          [--stop-after STOP_AFTER] [--parallelism PARALLELISM]\n",
        "          [--pipelining PIPELINING] [--bail-threshold BAIL_THRESHOLD]\n",
        "          [--no-dups] [--seed-configuration FILENAME]\n",
        "          [--results-log RESULTS_LOG]\n",
        "          [--results-log-details RESULTS_LOG_DETAILS] [--quiet]\n",
        "          [--display-frequency DISPLAY_FREQUENCY] [--technique TECHNIQUE]\n",
        "          [--list-techniques] [--label LABEL] [--print-search-space-size]\n",
        "          [--database DATABASE]\n",
        "-c: error: unrecognized arguments: -f /home/milinda/.config/ipython/profile_default/security/kernel-14973423-2b8a-4fa7-bc20-855644998304.json --IPKernelApp.parent_appname='ipython-notebook' --profile-dir /home/milinda/.config/ipython/profile_default --parent=1\n",
        "To exit: use 'exit', 'quit', or Ctrl-D.\n"
       ]
      }
     ],
     "prompt_number": 3
    },
    {
     "cell_type": "code",
     "collapsed": false,
     "input": [],
     "language": "python",
     "metadata": {},
     "outputs": []
    }
   ],
   "metadata": {}
  }
 ]
}